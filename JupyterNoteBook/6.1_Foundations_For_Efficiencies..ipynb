{
 "cells": [
  {
   "cell_type": "markdown",
   "id": "b796e811",
   "metadata": {},
   "source": [
    " # Writing Efficient Code:\n",
    " \n",
    " 1. Minimal Completion time (Fast Runtime)\n",
    " 2. Minimal Resources Consumption (Small memory FOotprint)"
   ]
  },
  {
   "cell_type": "code",
   "execution_count": 2,
   "id": "09058da9",
   "metadata": {},
   "outputs": [],
   "source": [
    "names = ['Jerry', 'Kramer', 'Elaine', 'George', 'Newman']"
   ]
  },
  {
   "cell_type": "markdown",
   "id": "c1b049c9",
   "metadata": {},
   "source": [
    "## Bad Code: "
   ]
  },
  {
   "cell_type": "code",
   "execution_count": 5,
   "id": "574e94b4",
   "metadata": {},
   "outputs": [
    {
     "name": "stdout",
     "output_type": "stream",
     "text": [
      "['Kramer', 'Elaine', 'George', 'Newman']\n"
     ]
    }
   ],
   "source": [
    "# Print the list created using the Non-Pythonic approach\n",
    "i = 0\n",
    "new_list= []\n",
    "while i < len(names):\n",
    "    if len(names[i]) >= 6:\n",
    "        new_list.append(names[i])\n",
    "    i += 1\n",
    "print(new_list)"
   ]
  },
  {
   "cell_type": "markdown",
   "id": "e6ef5301",
   "metadata": {},
   "source": [
    "## Better Code:"
   ]
  },
  {
   "cell_type": "code",
   "execution_count": 8,
   "id": "f21de34e",
   "metadata": {},
   "outputs": [
    {
     "name": "stdout",
     "output_type": "stream",
     "text": [
      "['Kramer', 'Elaine', 'George', 'Newman']\n"
     ]
    }
   ],
   "source": [
    "# Print the list created by looping over the contents of names\n",
    "better_list = []\n",
    "for name in names:\n",
    "    if len(name) >= 6:\n",
    "        better_list.append(name)\n",
    "print(better_list)"
   ]
  },
  {
   "cell_type": "markdown",
   "id": "d2373987",
   "metadata": {},
   "source": [
    "## Best Code:"
   ]
  },
  {
   "cell_type": "code",
   "execution_count": 9,
   "id": "0b4ace9c",
   "metadata": {},
   "outputs": [
    {
     "name": "stdout",
     "output_type": "stream",
     "text": [
      "['Kramer', 'Elaine', 'George', 'Newman']\n"
     ]
    }
   ],
   "source": [
    "# Print the list created by using list comprehension\n",
    "best_list = [name for name in names if len(name) >= 6]\n",
    "print(best_list)"
   ]
  },
  {
   "cell_type": "code",
   "execution_count": null,
   "id": "d17dd6eb",
   "metadata": {},
   "outputs": [],
   "source": []
  },
  {
   "cell_type": "markdown",
   "id": "61aa8190",
   "metadata": {},
   "source": [
    "## The Zen of Python:\n"
   ]
  },
  {
   "cell_type": "code",
   "execution_count": 10,
   "id": "5967cb8e",
   "metadata": {},
   "outputs": [
    {
     "name": "stdout",
     "output_type": "stream",
     "text": [
      "The Zen of Python, by Tim Peters\n",
      "\n",
      "Beautiful is better than ugly.\n",
      "Explicit is better than implicit.\n",
      "Simple is better than complex.\n",
      "Complex is better than complicated.\n",
      "Flat is better than nested.\n",
      "Sparse is better than dense.\n",
      "Readability counts.\n",
      "Special cases aren't special enough to break the rules.\n",
      "Although practicality beats purity.\n",
      "Errors should never pass silently.\n",
      "Unless explicitly silenced.\n",
      "In the face of ambiguity, refuse the temptation to guess.\n",
      "There should be one-- and preferably only one --obvious way to do it.\n",
      "Although that way may not be obvious at first unless you're Dutch.\n",
      "Now is better than never.\n",
      "Although never is often better than *right* now.\n",
      "If the implementation is hard to explain, it's a bad idea.\n",
      "If the implementation is easy to explain, it may be a good idea.\n",
      "Namespaces are one honking great idea -- let's do more of those!\n"
     ]
    }
   ],
   "source": [
    "import this"
   ]
  },
  {
   "cell_type": "markdown",
   "id": "4cac159f",
   "metadata": {},
   "source": [
    "# Building with Built-Ins: "
   ]
  },
  {
   "cell_type": "code",
   "execution_count": 11,
   "id": "89181eb5",
   "metadata": {},
   "outputs": [
    {
     "name": "stdout",
     "output_type": "stream",
     "text": [
      "<class 'range'>\n",
      "[0, 1, 2, 3, 4, 5]\n",
      "[1, 3, 5, 7, 9, 11]\n"
     ]
    }
   ],
   "source": [
    "# Create a range object that goes from 0 to 5\n",
    "nums = range(0,6)\n",
    "print(type(nums))\n",
    "\n",
    "# Convert nums to a list\n",
    "nums_list = list(nums)\n",
    "print(nums_list)\n",
    "\n",
    "# Create a new list of odd numbers from 1 to 11 by unpacking a range object\n",
    "nums_list2 = [*range(1,12,2)]  # ** Sterik is noticeable :\n",
    "print(nums_list2)"
   ]
  },
  {
   "cell_type": "code",
   "execution_count": 14,
   "id": "75f8a7f8",
   "metadata": {},
   "outputs": [
    {
     "name": "stdout",
     "output_type": "stream",
     "text": [
      "[range(1, 12, 2)]\n",
      "[1, 3, 5, 7, 9, 11]\n"
     ]
    }
   ],
   "source": [
    "# nums_list2 = [range(1,12,2)]\n",
    "# print(nums_list2)\n",
    "# nums_list2 = [*range(1,12,2)]\n",
    "# print(nums_list2)"
   ]
  },
  {
   "cell_type": "markdown",
   "id": "1eac15c0",
   "metadata": {},
   "source": [
    "## Good and Bad Code Using Enumerate Function: "
   ]
  },
  {
   "cell_type": "markdown",
   "id": "2f21ee0a",
   "metadata": {},
   "source": [
    "### Bad: "
   ]
  },
  {
   "cell_type": "code",
   "execution_count": 18,
   "id": "541204f4",
   "metadata": {},
   "outputs": [
    {
     "name": "stdout",
     "output_type": "stream",
     "text": [
      "[(0, 'Jerry'), (1, 'Kramer'), (2, 'Elaine'), (3, 'George'), (4, 'Newman')]\n"
     ]
    }
   ],
   "source": [
    "# Rewrite the for loop to use enumerate\n",
    "indexed_names = []\n",
    "for i,name in enumerate(names):\n",
    "    index_name = (i,name)\n",
    "    indexed_names.append(index_name) \n",
    "print(indexed_names)"
   ]
  },
  {
   "cell_type": "markdown",
   "id": "d2730a7c",
   "metadata": {},
   "source": [
    "###  Good:"
   ]
  },
  {
   "cell_type": "code",
   "execution_count": 19,
   "id": "4a905ec4",
   "metadata": {},
   "outputs": [
    {
     "name": "stdout",
     "output_type": "stream",
     "text": [
      "[(0, 'Jerry'), (1, 'Kramer'), (2, 'Elaine'), (3, 'George'), (4, 'Newman')]\n"
     ]
    }
   ],
   "source": [
    "# Rewrite the above for loop using list comprehension\n",
    "indexed_names_comp = [(i,name) for i,name in enumerate(names)]\n",
    "print(indexed_names_comp)"
   ]
  },
  {
   "cell_type": "markdown",
   "id": "fae81630",
   "metadata": {},
   "source": [
    "### Best:"
   ]
  },
  {
   "cell_type": "code",
   "execution_count": 21,
   "id": "7c06d97e",
   "metadata": {},
   "outputs": [
    {
     "name": "stdout",
     "output_type": "stream",
     "text": [
      "[(1, 'Jerry'), (2, 'Kramer'), (3, 'Elaine'), (4, 'George'), (5, 'Newman')]\n"
     ]
    }
   ],
   "source": [
    "# Unpack an enumerate object with a starting index of one\n",
    "indexed_names_unpack = [*enumerate(names, start=1)]\n",
    "print(indexed_names_unpack)"
   ]
  },
  {
   "cell_type": "code",
   "execution_count": null,
   "id": "14015143",
   "metadata": {},
   "outputs": [],
   "source": []
  },
  {
   "cell_type": "markdown",
   "id": "e18ada37",
   "metadata": {},
   "source": [
    "## Map Function: "
   ]
  },
  {
   "cell_type": "markdown",
   "id": "88556370",
   "metadata": {},
   "source": [
    "### Bad Code: "
   ]
  },
  {
   "cell_type": "code",
   "execution_count": 23,
   "id": "f9490d6f",
   "metadata": {},
   "outputs": [
    {
     "name": "stdout",
     "output_type": "stream",
     "text": [
      "['JERRY', 'KRAMER', 'ELAINE', 'GEORGE', 'NEWMAN']\n"
     ]
    }
   ],
   "source": [
    "names_uppercase = []\n",
    "\n",
    "for name in names:\n",
    "  names_uppercase.append(name.upper())\n",
    "print(names_uppercase)"
   ]
  },
  {
   "cell_type": "markdown",
   "id": "8994130b",
   "metadata": {},
   "source": [
    "###  Good Code:"
   ]
  },
  {
   "cell_type": "code",
   "execution_count": 37,
   "id": "cc866a31",
   "metadata": {},
   "outputs": [
    {
     "data": {
      "text/plain": [
       "['JERRY', 'KRAMER', 'ELAINE', 'GEORGE', 'NEWMAN']"
      ]
     },
     "execution_count": 37,
     "metadata": {},
     "output_type": "execute_result"
    }
   ],
   "source": [
    "[name.upper() for name in names]"
   ]
  },
  {
   "cell_type": "code",
   "execution_count": 38,
   "id": "259923b6",
   "metadata": {},
   "outputs": [
    {
     "name": "stdout",
     "output_type": "stream",
     "text": [
      "<class 'map'>\n",
      "['JERRY', 'KRAMER', 'ELAINE', 'GEORGE', 'NEWMAN']\n"
     ]
    }
   ],
   "source": [
    "# Use map to apply str.upper to each element in names\n",
    "names_map  = map(str.upper, names)\n",
    "\n",
    "# Print the type of the names_map\n",
    "print(type(names_map))\n",
    "\n",
    "# Unpack names_map into a list\n",
    "names_uppercase = [*names_map]\n",
    "\n",
    "# Print the list created above\n",
    "print(names_uppercase)"
   ]
  },
  {
   "cell_type": "code",
   "execution_count": 46,
   "id": "ca6fcb65",
   "metadata": {},
   "outputs": [
    {
     "name": "stdout",
     "output_type": "stream",
     "text": [
      "<map object at 0x000002C0CB37A130>\n"
     ]
    }
   ],
   "source": [
    "print(names_map) # We can not print map function directly."
   ]
  },
  {
   "cell_type": "code",
   "execution_count": 48,
   "id": "0281ef42",
   "metadata": {},
   "outputs": [
    {
     "data": {
      "text/plain": [
       "[0, 1, 2, 3, 4, 5, 6, 7, 8, 9]"
      ]
     },
     "execution_count": 48,
     "metadata": {},
     "output_type": "execute_result"
    }
   ],
   "source": [
    "[*range(10)]  # STERIK is use to print itterative object in list directly. "
   ]
  },
  {
   "cell_type": "markdown",
   "id": "208e3e6f",
   "metadata": {},
   "source": [
    "## The Power of Numpy."
   ]
  },
  {
   "cell_type": "code",
   "execution_count": 5,
   "id": "73301e89",
   "metadata": {},
   "outputs": [],
   "source": [
    "import numpy as np\n",
    "# Element of Numpy array should be same data type."
   ]
  },
  {
   "cell_type": "code",
   "execution_count": 6,
   "id": "7cb38d90",
   "metadata": {},
   "outputs": [],
   "source": [
    "nums = np.array([[ 2,  3,  4,  5,  6],\n",
    "       [ 7,  8,  9, 10, 11]])"
   ]
  },
  {
   "cell_type": "code",
   "execution_count": 8,
   "id": "03f9d9c5",
   "metadata": {},
   "outputs": [
    {
     "name": "stdout",
     "output_type": "stream",
     "text": [
      "[ 8  9 10 11 12]\n",
      "[ 7  8  9 10 11 12]\n",
      "[[ 6  8 10 12 14]\n",
      " [16 18 20 22 24]]\n",
      "[[ 3  4  6  6  7]\n",
      " [ 8  9 11 11 12]]\n"
     ]
    }
   ],
   "source": [
    "# Print second row of nums\n",
    "print(nums[1,:])\n",
    " \n",
    "# Print all elements of nums that are greater than six\n",
    "print(nums[nums > 6])\n",
    "\n",
    "# Double every element of nums\n",
    "nums_dbl = nums * 2\n",
    "print(nums_dbl)\n",
    "\n",
    "# Replace the third column of nums\n",
    "nums[:,2] = nums[:,2] + 1\n",
    "print(nums)"
   ]
  },
  {
   "cell_type": "code",
   "execution_count": 39,
   "id": "2376d974",
   "metadata": {},
   "outputs": [],
   "source": [
    "names = ['Jerry', 'Kramer', 'Elaine', 'George', 'Newman']"
   ]
  },
  {
   "cell_type": "code",
   "execution_count": 44,
   "id": "adef1bb1",
   "metadata": {},
   "outputs": [],
   "source": [
    "def welcome_guest(name):\n",
    "    return(\"Welcome...\",guest_arrivals )"
   ]
  },
  {
   "cell_type": "code",
   "execution_count": 45,
   "id": "7f35de9b",
   "metadata": {},
   "outputs": [
    {
     "name": "stdout",
     "output_type": "stream",
     "text": [
      "('Welcome...', [('Jerry', 7), ('Kramer', 17), ('Elaine', 27), ('George', 37), ('Newman', 47)])\n",
      "('Welcome...', [('Jerry', 7), ('Kramer', 17), ('Elaine', 27), ('George', 37), ('Newman', 47)])\n",
      "('Welcome...', [('Jerry', 7), ('Kramer', 17), ('Elaine', 27), ('George', 37), ('Newman', 47)])\n",
      "('Welcome...', [('Jerry', 7), ('Kramer', 17), ('Elaine', 27), ('George', 37), ('Newman', 47)])\n",
      "('Welcome...', [('Jerry', 7), ('Kramer', 17), ('Elaine', 27), ('George', 37), ('Newman', 47)])\n"
     ]
    }
   ],
   "source": [
    "# Create a list of arrival times\n",
    "arrival_times = [*range(10,60,10)]\n",
    "\n",
    "# Convert arrival_times to an array and update the times\n",
    "arrival_times_np = np.array(arrival_times)\n",
    "new_times = arrival_times_np - 3\n",
    "\n",
    "# Use list comprehension and enumerate to pair guests to new times\n",
    "guest_arrivals = [(names[i],time) for i,time in enumerate(new_times)]\n",
    "\n",
    "# Map the welcome_guest function to each (guest,time) pair\n",
    "welcome_map = map(welcome_guest, guest_arrivals)\n",
    "\n",
    "guest_welcomes = [*welcome_map]\n",
    "print(*guest_welcomes, sep='\\n')"
   ]
  },
  {
   "cell_type": "code",
   "execution_count": null,
   "id": "6883a058",
   "metadata": {},
   "outputs": [],
   "source": []
  },
  {
   "cell_type": "code",
   "execution_count": null,
   "id": "c5efe941",
   "metadata": {},
   "outputs": [],
   "source": []
  },
  {
   "cell_type": "code",
   "execution_count": null,
   "id": "ec1bd945",
   "metadata": {},
   "outputs": [],
   "source": []
  }
 ],
 "metadata": {
  "kernelspec": {
   "display_name": "Python 3 (ipykernel)",
   "language": "python",
   "name": "python3"
  },
  "language_info": {
   "codemirror_mode": {
    "name": "ipython",
    "version": 3
   },
   "file_extension": ".py",
   "mimetype": "text/x-python",
   "name": "python",
   "nbconvert_exporter": "python",
   "pygments_lexer": "ipython3",
   "version": "3.9.12"
  }
 },
 "nbformat": 4,
 "nbformat_minor": 5
}
